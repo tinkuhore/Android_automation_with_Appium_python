{
 "cells": [
  {
   "cell_type": "code",
   "execution_count": 1,
   "id": "2bdb473e",
   "metadata": {},
   "outputs": [],
   "source": [
    "PHONE_NUMBER = 9614929765"
   ]
  },
  {
   "cell_type": "code",
   "execution_count": 2,
   "id": "3b04b910",
   "metadata": {},
   "outputs": [],
   "source": [
    "phno = [i for i in str(PHONE_NUMBER)]"
   ]
  },
  {
   "cell_type": "code",
   "execution_count": 3,
   "id": "35710501",
   "metadata": {},
   "outputs": [
    {
     "data": {
      "text/plain": [
       "['9', '6', '1', '4', '9', '2', '9', '7', '6', '5']"
      ]
     },
     "execution_count": 3,
     "metadata": {},
     "output_type": "execute_result"
    }
   ],
   "source": [
    "phno\n"
   ]
  },
  {
   "cell_type": "code",
   "execution_count": 4,
   "id": "d4c05a7b",
   "metadata": {},
   "outputs": [],
   "source": [
    "import pandas as pd\n",
    "\n",
    "df = pd.DataFrame(columns=['Iterate', 'Status'])"
   ]
  },
  {
   "cell_type": "code",
   "execution_count": 5,
   "id": "270d4712",
   "metadata": {},
   "outputs": [
    {
     "data": {
      "text/html": [
       "<div>\n",
       "<style scoped>\n",
       "    .dataframe tbody tr th:only-of-type {\n",
       "        vertical-align: middle;\n",
       "    }\n",
       "\n",
       "    .dataframe tbody tr th {\n",
       "        vertical-align: top;\n",
       "    }\n",
       "\n",
       "    .dataframe thead th {\n",
       "        text-align: right;\n",
       "    }\n",
       "</style>\n",
       "<table border=\"1\" class=\"dataframe\">\n",
       "  <thead>\n",
       "    <tr style=\"text-align: right;\">\n",
       "      <th></th>\n",
       "      <th>Iterate</th>\n",
       "      <th>Status</th>\n",
       "    </tr>\n",
       "  </thead>\n",
       "  <tbody>\n",
       "  </tbody>\n",
       "</table>\n",
       "</div>"
      ],
      "text/plain": [
       "Empty DataFrame\n",
       "Columns: [Iterate, Status]\n",
       "Index: []"
      ]
     },
     "execution_count": 5,
     "metadata": {},
     "output_type": "execute_result"
    }
   ],
   "source": [
    "df"
   ]
  },
  {
   "cell_type": "code",
   "execution_count": 6,
   "id": "ed458e28",
   "metadata": {},
   "outputs": [
    {
     "name": "stdout",
     "output_type": "stream",
     "text": [
      "done\n",
      "done\n",
      "done\n",
      "done\n",
      "done\n"
     ]
    },
    {
     "data": {
      "text/html": [
       "<div>\n",
       "<style scoped>\n",
       "    .dataframe tbody tr th:only-of-type {\n",
       "        vertical-align: middle;\n",
       "    }\n",
       "\n",
       "    .dataframe tbody tr th {\n",
       "        vertical-align: top;\n",
       "    }\n",
       "\n",
       "    .dataframe thead th {\n",
       "        text-align: right;\n",
       "    }\n",
       "</style>\n",
       "<table border=\"1\" class=\"dataframe\">\n",
       "  <thead>\n",
       "    <tr style=\"text-align: right;\">\n",
       "      <th></th>\n",
       "      <th>Iterate</th>\n",
       "      <th>Status</th>\n",
       "    </tr>\n",
       "  </thead>\n",
       "  <tbody>\n",
       "    <tr>\n",
       "      <th>0</th>\n",
       "      <td>1</td>\n",
       "      <td>Pass</td>\n",
       "    </tr>\n",
       "    <tr>\n",
       "      <th>1</th>\n",
       "      <td>2</td>\n",
       "      <td>Pass</td>\n",
       "    </tr>\n",
       "    <tr>\n",
       "      <th>2</th>\n",
       "      <td>3</td>\n",
       "      <td>Pass</td>\n",
       "    </tr>\n",
       "    <tr>\n",
       "      <th>3</th>\n",
       "      <td>4</td>\n",
       "      <td>Pass</td>\n",
       "    </tr>\n",
       "    <tr>\n",
       "      <th>4</th>\n",
       "      <td>5</td>\n",
       "      <td>Pass</td>\n",
       "    </tr>\n",
       "  </tbody>\n",
       "</table>\n",
       "</div>"
      ],
      "text/plain": [
       "   Iterate Status\n",
       "0        1   Pass\n",
       "1        2   Pass\n",
       "2        3   Pass\n",
       "3        4   Pass\n",
       "4        5   Pass"
      ]
     },
     "execution_count": 6,
     "metadata": {},
     "output_type": "execute_result"
    }
   ],
   "source": [
    "\n",
    "for i in range(5):\n",
    "    dic = []\n",
    "    dic.append(i+1)\n",
    "    dic.append('Pass')\n",
    "    df.loc[len(df.index)] = dic\n",
    "    print('done')\n",
    "df"
   ]
  },
  {
   "cell_type": "code",
   "execution_count": 7,
   "id": "94c30037",
   "metadata": {},
   "outputs": [],
   "source": [
    "writer = pd.ExcelWriter(\"dataframe.xlsx\", engine='xlsxwriter')\n",
    "df.to_excel(writer,sheet_name = 'sheet1', index=False)\n",
    "writer.save() "
   ]
  },
  {
   "cell_type": "code",
   "execution_count": 20,
   "id": "90f67252",
   "metadata": {},
   "outputs": [],
   "source": [
    "df = pd.read_excel(\"wifi_test_log.xlsx\", index_col=False)"
   ]
  },
  {
   "cell_type": "code",
   "execution_count": 21,
   "id": "f59cbda3",
   "metadata": {},
   "outputs": [
    {
     "data": {
      "text/html": [
       "<div>\n",
       "<style scoped>\n",
       "    .dataframe tbody tr th:only-of-type {\n",
       "        vertical-align: middle;\n",
       "    }\n",
       "\n",
       "    .dataframe tbody tr th {\n",
       "        vertical-align: top;\n",
       "    }\n",
       "\n",
       "    .dataframe thead th {\n",
       "        text-align: right;\n",
       "    }\n",
       "</style>\n",
       "<table border=\"1\" class=\"dataframe\">\n",
       "  <thead>\n",
       "    <tr style=\"text-align: right;\">\n",
       "      <th></th>\n",
       "      <th>Iterate</th>\n",
       "      <th>Date</th>\n",
       "      <th>On_Time</th>\n",
       "      <th>Off_Time</th>\n",
       "      <th>Status</th>\n",
       "    </tr>\n",
       "  </thead>\n",
       "  <tbody>\n",
       "    <tr>\n",
       "      <th>0</th>\n",
       "      <td>1</td>\n",
       "      <td>11/10/2022</td>\n",
       "      <td>00:59:35</td>\n",
       "      <td>00:59:48</td>\n",
       "      <td>Pass</td>\n",
       "    </tr>\n",
       "    <tr>\n",
       "      <th>1</th>\n",
       "      <td>2</td>\n",
       "      <td>11/10/2022</td>\n",
       "      <td>00:59:52</td>\n",
       "      <td>01:00:05</td>\n",
       "      <td>Pass</td>\n",
       "    </tr>\n",
       "    <tr>\n",
       "      <th>2</th>\n",
       "      <td>3</td>\n",
       "      <td>11/10/2022</td>\n",
       "      <td>01:00:08</td>\n",
       "      <td>01:00:21</td>\n",
       "      <td>Pass</td>\n",
       "    </tr>\n",
       "    <tr>\n",
       "      <th>3</th>\n",
       "      <td>4</td>\n",
       "      <td>11/10/2022</td>\n",
       "      <td>01:00:25</td>\n",
       "      <td>01:00:38</td>\n",
       "      <td>Pass</td>\n",
       "    </tr>\n",
       "    <tr>\n",
       "      <th>4</th>\n",
       "      <td>5</td>\n",
       "      <td>11/10/2022</td>\n",
       "      <td>01:00:41</td>\n",
       "      <td>01:00:54</td>\n",
       "      <td>Fail</td>\n",
       "    </tr>\n",
       "    <tr>\n",
       "      <th>5</th>\n",
       "      <td>6</td>\n",
       "      <td>11/10/2022</td>\n",
       "      <td>01:00:58</td>\n",
       "      <td>01:01:11</td>\n",
       "      <td>Pass</td>\n",
       "    </tr>\n",
       "    <tr>\n",
       "      <th>6</th>\n",
       "      <td>7</td>\n",
       "      <td>11/10/2022</td>\n",
       "      <td>01:01:15</td>\n",
       "      <td>01:01:28</td>\n",
       "      <td>Pass</td>\n",
       "    </tr>\n",
       "    <tr>\n",
       "      <th>7</th>\n",
       "      <td>8</td>\n",
       "      <td>11/10/2022</td>\n",
       "      <td>01:01:31</td>\n",
       "      <td>01:01:44</td>\n",
       "      <td>Pass</td>\n",
       "    </tr>\n",
       "    <tr>\n",
       "      <th>8</th>\n",
       "      <td>9</td>\n",
       "      <td>11/10/2022</td>\n",
       "      <td>01:01:48</td>\n",
       "      <td>01:02:01</td>\n",
       "      <td>Pass</td>\n",
       "    </tr>\n",
       "    <tr>\n",
       "      <th>9</th>\n",
       "      <td>10</td>\n",
       "      <td>11/10/2022</td>\n",
       "      <td>01:02:05</td>\n",
       "      <td>01:02:18</td>\n",
       "      <td>Fail</td>\n",
       "    </tr>\n",
       "    <tr>\n",
       "      <th>10</th>\n",
       "      <td>11</td>\n",
       "      <td>11/10/2022</td>\n",
       "      <td>01:02:21</td>\n",
       "      <td>01:02:34</td>\n",
       "      <td>Pass</td>\n",
       "    </tr>\n",
       "    <tr>\n",
       "      <th>11</th>\n",
       "      <td>12</td>\n",
       "      <td>11/10/2022</td>\n",
       "      <td>01:02:38</td>\n",
       "      <td>01:02:51</td>\n",
       "      <td>Pass</td>\n",
       "    </tr>\n",
       "    <tr>\n",
       "      <th>12</th>\n",
       "      <td>13</td>\n",
       "      <td>11/10/2022</td>\n",
       "      <td>01:02:55</td>\n",
       "      <td>01:03:08</td>\n",
       "      <td>Fail</td>\n",
       "    </tr>\n",
       "    <tr>\n",
       "      <th>13</th>\n",
       "      <td>14</td>\n",
       "      <td>11/10/2022</td>\n",
       "      <td>01:03:11</td>\n",
       "      <td>01:03:24</td>\n",
       "      <td>Pass</td>\n",
       "    </tr>\n",
       "    <tr>\n",
       "      <th>14</th>\n",
       "      <td>15</td>\n",
       "      <td>11/10/2022</td>\n",
       "      <td>01:03:28</td>\n",
       "      <td>01:03:41</td>\n",
       "      <td>Pass</td>\n",
       "    </tr>\n",
       "    <tr>\n",
       "      <th>15</th>\n",
       "      <td>16</td>\n",
       "      <td>11/10/2022</td>\n",
       "      <td>01:03:45</td>\n",
       "      <td>01:03:58</td>\n",
       "      <td>Pass</td>\n",
       "    </tr>\n",
       "    <tr>\n",
       "      <th>16</th>\n",
       "      <td>17</td>\n",
       "      <td>11/10/2022</td>\n",
       "      <td>01:04:02</td>\n",
       "      <td>01:04:15</td>\n",
       "      <td>Pass</td>\n",
       "    </tr>\n",
       "    <tr>\n",
       "      <th>17</th>\n",
       "      <td>18</td>\n",
       "      <td>11/10/2022</td>\n",
       "      <td>01:04:18</td>\n",
       "      <td>01:04:31</td>\n",
       "      <td>Pass</td>\n",
       "    </tr>\n",
       "    <tr>\n",
       "      <th>18</th>\n",
       "      <td>19</td>\n",
       "      <td>11/10/2022</td>\n",
       "      <td>01:04:35</td>\n",
       "      <td>01:04:48</td>\n",
       "      <td>Fail</td>\n",
       "    </tr>\n",
       "    <tr>\n",
       "      <th>19</th>\n",
       "      <td>20</td>\n",
       "      <td>11/10/2022</td>\n",
       "      <td>01:04:52</td>\n",
       "      <td>01:05:05</td>\n",
       "      <td>Pass</td>\n",
       "    </tr>\n",
       "  </tbody>\n",
       "</table>\n",
       "</div>"
      ],
      "text/plain": [
       "    Iterate        Date   On_Time  Off_Time Status\n",
       "0         1  11/10/2022  00:59:35  00:59:48   Pass\n",
       "1         2  11/10/2022  00:59:52  01:00:05   Pass\n",
       "2         3  11/10/2022  01:00:08  01:00:21   Pass\n",
       "3         4  11/10/2022  01:00:25  01:00:38   Pass\n",
       "4         5  11/10/2022  01:00:41  01:00:54   Fail\n",
       "5         6  11/10/2022  01:00:58  01:01:11   Pass\n",
       "6         7  11/10/2022  01:01:15  01:01:28   Pass\n",
       "7         8  11/10/2022  01:01:31  01:01:44   Pass\n",
       "8         9  11/10/2022  01:01:48  01:02:01   Pass\n",
       "9        10  11/10/2022  01:02:05  01:02:18   Fail\n",
       "10       11  11/10/2022  01:02:21  01:02:34   Pass\n",
       "11       12  11/10/2022  01:02:38  01:02:51   Pass\n",
       "12       13  11/10/2022  01:02:55  01:03:08   Fail\n",
       "13       14  11/10/2022  01:03:11  01:03:24   Pass\n",
       "14       15  11/10/2022  01:03:28  01:03:41   Pass\n",
       "15       16  11/10/2022  01:03:45  01:03:58   Pass\n",
       "16       17  11/10/2022  01:04:02  01:04:15   Pass\n",
       "17       18  11/10/2022  01:04:18  01:04:31   Pass\n",
       "18       19  11/10/2022  01:04:35  01:04:48   Fail\n",
       "19       20  11/10/2022  01:04:52  01:05:05   Pass"
      ]
     },
     "execution_count": 21,
     "metadata": {},
     "output_type": "execute_result"
    }
   ],
   "source": [
    "df"
   ]
  },
  {
   "cell_type": "code",
   "execution_count": 22,
   "id": "0f3230d7",
   "metadata": {},
   "outputs": [],
   "source": [
    "status = list(df['Status'])"
   ]
  },
  {
   "cell_type": "code",
   "execution_count": 18,
   "id": "480c2dd1",
   "metadata": {},
   "outputs": [
    {
     "data": {
      "text/plain": [
       "list"
      ]
     },
     "execution_count": 18,
     "metadata": {},
     "output_type": "execute_result"
    }
   ],
   "source": [
    "type(status)"
   ]
  },
  {
   "cell_type": "code",
   "execution_count": 23,
   "id": "84168c9b",
   "metadata": {},
   "outputs": [],
   "source": [
    "p_count = status.count('Pass')\n",
    "f_count = status.count('Fail')"
   ]
  },
  {
   "cell_type": "code",
   "execution_count": 24,
   "id": "efac1b50",
   "metadata": {},
   "outputs": [
    {
     "data": {
      "text/plain": [
       "16"
      ]
     },
     "execution_count": 24,
     "metadata": {},
     "output_type": "execute_result"
    }
   ],
   "source": [
    "p_count"
   ]
  },
  {
   "cell_type": "code",
   "execution_count": 25,
   "id": "46221ac8",
   "metadata": {},
   "outputs": [
    {
     "data": {
      "text/plain": [
       "4"
      ]
     },
     "execution_count": 25,
     "metadata": {},
     "output_type": "execute_result"
    }
   ],
   "source": [
    "f_count"
   ]
  },
  {
   "cell_type": "code",
   "execution_count": 27,
   "id": "e7661c99",
   "metadata": {},
   "outputs": [
    {
     "data": {
      "text/plain": [
       "'-'"
      ]
     },
     "execution_count": 27,
     "metadata": {},
     "output_type": "execute_result"
    }
   ],
   "source": [
    "chr(45)"
   ]
  },
  {
   "cell_type": "code",
   "execution_count": 31,
   "id": "04ad93aa",
   "metadata": {},
   "outputs": [
    {
     "data": {
      "text/plain": [
       "19"
      ]
     },
     "execution_count": 31,
     "metadata": {},
     "output_type": "execute_result"
    }
   ],
   "source": [
    "ord('s')-96"
   ]
  },
  {
   "cell_type": "code",
   "execution_count": 29,
   "id": "7d64a82a",
   "metadata": {},
   "outputs": [
    {
     "data": {
      "text/plain": [
       "65"
      ]
     },
     "execution_count": 29,
     "metadata": {},
     "output_type": "execute_result"
    }
   ],
   "source": [
    "ord('A')"
   ]
  },
  {
   "cell_type": "code",
   "execution_count": 33,
   "id": "fd70544b",
   "metadata": {},
   "outputs": [
    {
     "name": "stdout",
     "output_type": "stream",
     "text": [
      "47\n",
      "47\n",
      "47\n",
      "47\n",
      "47\n",
      "47\n",
      "47\n",
      "47\n"
     ]
    }
   ],
   "source": [
    "search = 'settings'\n",
    "for i in search:\n",
    "    code = 29 + (ord('s') - 97)\n",
    "    print(code)"
   ]
  },
  {
   "cell_type": "code",
   "execution_count": null,
   "id": "ec56cece",
   "metadata": {},
   "outputs": [],
   "source": []
  }
 ],
 "metadata": {
  "kernelspec": {
   "display_name": "Python 3 (ipykernel)",
   "language": "python",
   "name": "python3"
  },
  "language_info": {
   "codemirror_mode": {
    "name": "ipython",
    "version": 3
   },
   "file_extension": ".py",
   "mimetype": "text/x-python",
   "name": "python",
   "nbconvert_exporter": "python",
   "pygments_lexer": "ipython3",
   "version": "3.9.13"
  }
 },
 "nbformat": 4,
 "nbformat_minor": 5
}
